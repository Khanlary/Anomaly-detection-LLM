{
 "cells": [
  {
   "cell_type": "code",
   "execution_count": 37,
   "metadata": {},
   "outputs": [],
   "source": [
    "import re\n",
    "import json\n",
    "\n",
    "def get_confidence(input_str, review_id):\n",
    "    # Only the part of the string after \"confidence for outlier\"\n",
    "    start_index = input_str.find(\"confidence for outlier:\")\n",
    "    relevant_part = input_str[start_index:]\n",
    "\n",
    "    pattern = f\"review{review_id}\"\n",
    "    regex = r\"\\{\" + pattern + r\"\\}\\((.*?)\\)\"\n",
    "\n",
    "    # \"Confidence for outlier part\", note index is 0 not 1.\n",
    "    line = relevant_part.split(\"\\n\")[0]\n",
    "\n",
    "    match = re.search(regex, line)\n",
    "    if match:\n",
    "        confidence = match.group(1)\n",
    "        return confidence\n",
    "\n",
    "\n",
    "def count_data(file_path, medium_type):\n",
    "    \"\"\"_summary_\n",
    "\n",
    "    Args:\n",
    "        file_path (str): json file path\n",
    "        model_name (str): gpt-3.5-turbo or llamas\n",
    "        medium_type (int): True if MEDIUM as an outlier.\n",
    "\n",
    "    Returns:\n",
    "        _type_: _description_\n",
    "    \"\"\"\n",
    "    detected_outliers_count = 0\n",
    "    total_reviews_count = 0\n",
    "    total_outliers_count = 0\n",
    "    correct_outlier_predictions = 0 # True Positives\n",
    "    ground_truths = [] # 1 if outlier, 0 if not outlier\n",
    "    ground_truth_probs = []\n",
    "    \n",
    "    # Outlier Types\n",
    "    outlier_types = [\"HIGH\"] + [\"MEDIUM\"] if medium_type else [\"HIGH\"]\n",
    "    outlier_confidence_scores_type = [0.9, 0.6, 0.3]\n",
    "\n",
    "    with open(file_path, \"r\") as file:\n",
    "        data = json.load(file)\n",
    "\n",
    "        for entry in data:\n",
    "            # print(entry[\"ID\"])\n",
    "            # Check if the entry is a valid JSON object with the required fields\n",
    "            if all(key in entry for key in [\"output\", \"ground_truth\"]) and isinstance(\n",
    "                entry[\"output\"], str\n",
    "            ):\n",
    "                output = entry[\"output\"]\n",
    "                ground_truth = entry[\"ground_truth\"]\n",
    "                total_reviews_count += len(ground_truth)\n",
    "                total_outliers_count += sum(1 for gt in ground_truth if -1 in gt.values())\n",
    "\n",
    "                # 1 if outlier, 0 if not outlier (outliers as positives)\n",
    "                ground_truths += [0 if list(gt.values())[0] == 1 else 1 for gt in ground_truth]\n",
    "\n",
    "                for i in range(1, len(ground_truth)+1):\n",
    "                    # confidence = get_confidence(output, i)\n",
    "                    # if confidence == \"HIGH\":\n",
    "                    #     outlier_confidence_score = outlier_confidence_scores_type[0]\n",
    "                    # elif confidence == \"MEDIUM\":\n",
    "                    #     outlier_confidence_score = outlier_confidence_scores_type[1]\n",
    "                    # else:\n",
    "                    #     outlier_confidence_score = outlier_confidence_scores_type[2]\n",
    "                    # ground_truth_probs.append(outlier_confidence_score)\n",
    "\n",
    "                    # # Detected as outlier\n",
    "                    # if f\"review{i}\" in output.split(\"\\n\")[0] and confidence in outlier_types:\n",
    "                    #     detected_outliers_count += 1\n",
    "\n",
    "                    #     # If the prediction is correct, add ONE to the correct_outlier_predictions counter\n",
    "                    #     if list(ground_truth[i - 1].values())[0] == -1:\n",
    "                    #         correct_outlier_predictions += 1\n",
    "\n",
    "                    # Test: All detected as ground truth\n",
    "                    if list(ground_truth[i - 1].values())[0] == -1:\n",
    "                        detected_outliers_count += 1\n",
    "                        correct_outlier_predictions += 1\n",
    "                        ground_truth_probs.append(1)\n",
    "                    else:\n",
    "                        ground_truth_probs.append(0)\n",
    "\n",
    "\n",
    "    return (\n",
    "        total_reviews_count,\n",
    "        total_outliers_count,\n",
    "        detected_outliers_count,\n",
    "        correct_outlier_predictions,\n",
    "        ground_truths,\n",
    "        ground_truth_probs\n",
    "    )"
   ]
  },
  {
   "cell_type": "code",
   "execution_count": 2,
   "metadata": {},
   "outputs": [
    {
     "data": {
      "text/plain": [
       "'1'"
      ]
     },
     "execution_count": 2,
     "metadata": {},
     "output_type": "execute_result"
    }
   ],
   "source": [
    "str(int(True))"
   ]
  },
  {
   "cell_type": "code",
   "execution_count": 38,
   "metadata": {},
   "outputs": [
    {
     "name": "stdout",
     "output_type": "stream",
     "text": [
      "TP: 2671\n",
      "FP: 0\n",
      "TN: 15711\n",
      "FN: 0\n",
      "\n",
      "pr_thresholds: 0.0000      precisions: 0.1453      recalls: 1.0000    \n",
      "pr_thresholds: 1.0000      precisions: 1.0000      recalls: 1.0000    \n",
      "average_precision_score: 1.0000\n",
      "\n",
      "thresholds: inf         fpr: 0.0000      tpr: 0.0000    \n",
      "thresholds: 1.0000      fpr: 0.0000      tpr: 1.0000    \n",
      "thresholds: 0.0000      fpr: 1.0000      tpr: 1.0000    \n",
      "roc_auc_score: 1.0000\n",
      "\n"
     ]
    },
    {
     "data": {
      "image/png": "[encoded data removed]",
      "text/plain": [
       "<Figure size 1200x500 with 2 Axes>"
      ]
     },
     "metadata": {},
     "output_type": "display_data"
    }
   ],
   "source": [
    "from sklearn.metrics import roc_curve, auc, roc_auc_score\n",
    "from sklearn.metrics import precision_recall_curve, average_precision_score\n",
    "from matplotlib import pyplot as plt\n",
    "\n",
    "model_name = 'gpt'\n",
    "\n",
    "file_paths = [f'./output_{model_name}.json', f'./output_{model_name}2.json', f'./output_{model_name}3.json']\n",
    "\n",
    "total_reviews_count = 0\n",
    "total_outliers_count = 0\n",
    "detected_outliers_count = 0\n",
    "correct_outlier_predictions = 0\n",
    "ground_truths = []\n",
    "ground_truth_probs = []\n",
    "\n",
    "for file_path in file_paths:\n",
    "    total_reviews, total_outliers, detected_outliers, correct_predictions, truths, probs = count_data(file_path, 0)\n",
    "    total_reviews_count += total_reviews\n",
    "    total_outliers_count += total_outliers\n",
    "    detected_outliers_count += detected_outliers\n",
    "    correct_outlier_predictions += correct_predictions\n",
    "    ground_truths += truths\n",
    "    ground_truth_probs += probs\n",
    "\n",
    "true_positives = correct_outlier_predictions\n",
    "false_positives = detected_outliers_count - correct_outlier_predictions\n",
    "false_negatives = total_outliers_count - correct_outlier_predictions\n",
    "true_negatives = total_reviews_count - total_outliers_count - false_positives\n",
    "\n",
    "\n",
    "print(f'TP: {true_positives}')\n",
    "print(f'FP: {false_positives}')\n",
    "print(f'TN: {true_negatives}')\n",
    "print(f'FN: {false_negatives}')\n",
    "print()\n",
    "\n",
    "# Precision-Recall curve & AP score\n",
    "precisions, recalls, pr_thresholds = precision_recall_curve(ground_truths, ground_truth_probs)\n",
    "for i, value in enumerate(pr_thresholds):\n",
    "    print(f\"pr_thresholds: {value:<10.4f}  precisions: {precisions[i]:<10.4f}  recalls: {recalls[i]:<10.4f}\")\n",
    "ap_score = average_precision_score(ground_truths, ground_truth_probs)\n",
    "print(f\"average_precision_score: {ap_score:.4f}\")\n",
    "print()\n",
    "\n",
    "# ROC & AUC\n",
    "fpr, tpr, roc_thresholds = roc_curve(ground_truths, ground_truth_probs)\n",
    "for i, value in enumerate(roc_thresholds):\n",
    "    print(f\"thresholds: {value:<10.4f}  fpr: {fpr[i]:<10.4f}  tpr: {tpr[i]:<10.4f}\")\n",
    "# print(f\"auc: {auc(fpr, tpr)}\") # same number as roc_auc_score\n",
    "auc_score = roc_auc_score(ground_truths, ground_truth_probs)\n",
    "print(f\"roc_auc_score: {auc_score:.4f}\")\n",
    "print()\n",
    "\n",
    "\n",
    "# plotting\n",
    "plt.figure(figsize=(12, 5))\n",
    "\n",
    "# Precision-Recall Curve\n",
    "plt.subplot(1, 2, 1)\n",
    "plt.plot(recalls, precisions, color='blue', label=f'P-R Curve (AP = {ap_score:.4f})')\n",
    "# plt.scatter(recalls, precisions, c=pr_thresholds)\n",
    "# plt.colorbar(label='P-R Threshold')\n",
    "# annotate thresholds text above the points\n",
    "for i, value in enumerate(pr_thresholds):\n",
    "    if value <= 1:\n",
    "        plt.annotate(str(value), (recalls[i], precisions[i]), textcoords=\"offset points\", xytext=(0,3), ha='center')\n",
    "\n",
    "plt.title('Precision-Recall Curve')\n",
    "plt.xlabel('Recall')\n",
    "plt.ylabel('Precision')\n",
    "plt.grid(True)\n",
    "plt.xlim([-0.05, 1.05])\n",
    "plt.ylim([-0.05, 1.05])\n",
    "plt.legend(loc=\"lower right\")\n",
    "\n",
    "# ROC curve\n",
    "plt.subplot(1, 2, 2)\n",
    "plt.plot(fpr, tpr, color='red', label=f'ROC (AUC = {auc_score:.4f})')\n",
    "plt.scatter(fpr, tpr, c=roc_thresholds)\n",
    "# plt.colorbar(label='Threshold')\n",
    "\n",
    "# 在每个点上方添加文本标注\n",
    "for i, value in enumerate(roc_thresholds):\n",
    "    if value <= 1:\n",
    "        plt.annotate(str(value), (fpr[i], tpr[i]), textcoords=\"offset points\", xytext=(0,3), ha='center')\n",
    "\n",
    "plt.title('ROC')\n",
    "plt.xlabel('FPR')\n",
    "plt.ylabel('TPR')\n",
    "plt.grid(True)\n",
    "plt.xlim([-0.05, 1.05])\n",
    "plt.ylim([-0.05, 1.05])\n",
    "plt.legend(loc=\"lower right\")\n",
    "\n",
    "# plt.tight_layout()\n",
    "plt.show()"
   ]
  },
  {
   "cell_type": "markdown",
   "metadata": {},
   "source": [
    "# Draft"
   ]
  },
  {
   "cell_type": "markdown",
   "metadata": {},
   "source": []
  },
  {
   "cell_type": "code",
   "execution_count": 8,
   "metadata": {},
   "outputs": [
    {
     "name": "stdout",
     "output_type": "stream",
     "text": [
      "132_1\n",
      "\n",
      "output:\n",
      "A: Outlier reviews ID: review2\n",
      "confidence for outlier: {review2}(MEDIUM)\n",
      "reasons:\n",
      "- review2: This review stands out from the others because it provides a positive overall assessment of the sushi and value, despite mentioning loud and chaotic music and not being a great place for a first date. The positive rating given in this context is inconsistent with the typical expectations for a 4-star review, making it an outlier.\n",
      "\n",
      "ground_truth:\n",
      "[{'1': 1}, {'2': 1}, {'3': 1}]\n",
      "\n",
      "ground_truths: [0, 0, 0]\n"
     ]
    }
   ],
   "source": [
    "import json\n",
    "\n",
    "with open('output_gpt.json', \"r\") as file:\n",
    "        data = json.load(file)\n",
    "\n",
    "        print(data[0][\"ID\"])\n",
    "        # Check if the entry is a valid JSON object with the required fields\n",
    "        if all(key in data[0] for key in [\"output\", \"ground_truth\"]) and isinstance(\n",
    "            data[0][\"output\"], str\n",
    "        ):\n",
    "            output = data[0][\"output\"]\n",
    "            ground_truth = data[0][\"ground_truth\"]\n",
    "            # total_reviews_count += len(ground_truth)\n",
    "            # total_outliers_count += sum(1 for gt in ground_truth if -1 in gt.values())\n",
    "            \n",
    "            # ground_truths += [1 if list(gt.values())[0] == 1 else 0 for gt in ground_truth]\n",
    "\n",
    "print(f'\\noutput:\\n{output}')\n",
    "print(f'\\nground_truth:\\n{ground_truth}')\n",
    "print(f'\\nground_truths: {[0 if list(gt.values())[0] == 1 else 1 for gt in ground_truth]}')"
   ]
  },
  {
   "cell_type": "code",
   "execution_count": 19,
   "metadata": {},
   "outputs": [
    {
     "data": {
      "text/plain": [
       "['HIGH']"
      ]
     },
     "execution_count": 19,
     "metadata": {},
     "output_type": "execute_result"
    }
   ],
   "source": [
    "medium_type = False\n",
    "[\"HIGH\"] + [\"MEDIUM\"] if medium_type else [\"HIGH\"]"
   ]
  }
 ],
 "metadata": {
  "kernelspec": {
   "display_name": "base",
   "language": "python",
   "name": "python3"
  },
  "language_info": {
   "codemirror_mode": {
    "name": "ipython",
    "version": 3
   },
   "file_extension": ".py",
   "mimetype": "text/x-python",
   "name": "python",
   "nbconvert_exporter": "python",
   "pygments_lexer": "ipython3",
   "version": "3.11.5"
  }
 },
 "nbformat": 4,
 "nbformat_minor": 2
}
